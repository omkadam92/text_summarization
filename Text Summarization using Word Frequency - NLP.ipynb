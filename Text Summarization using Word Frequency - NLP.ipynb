{
 "cells": [
  {
   "cell_type": "code",
   "execution_count": 1,
   "metadata": {},
   "outputs": [],
   "source": [
    "## input text article\n",
    "article_text=\"A litany of text summarization methods have been developed over the last several decades, so answering how text summarization works doesn’t have a single answer. This having been said, these methods can be classified according to their general approaches in addressing the challenge of text summarization. Perhaps the most clear-cut and helpful distinction is that between Extractive and Abstractive text summarization methods. Extractive methods seek to extract the most pertinent information from a text. Extractive text summarization is the more traditional of the two methods, in part because of their relative simplicity compared to abstractive methods. Abstractive methods instead seek to generate a novel body of text that accurately summarizes the original text. Already we can see how this is a more difficult problem - there is a significant degree of freedom in not being limited to simply returning a subset of the original text. This difficulty comes with an upside, though. Despite their relative complexity, Abstractive methods produce much more flexible and arguably faithful summaries, especially in the age of Large Language Models. \""
   ]
  },
  {
   "cell_type": "markdown",
   "metadata": {},
   "source": [
    "## Import Modules"
   ]
  },
  {
   "cell_type": "code",
   "execution_count": 2,
   "metadata": {},
   "outputs": [
    {
     "name": "stdout",
     "output_type": "stream",
     "text": [
      "[nltk_data] Downloading package punkt to\n",
      "[nltk_data]     C:\\Users\\hp\\AppData\\Roaming\\nltk_data...\n",
      "[nltk_data]   Package punkt is already up-to-date!\n",
      "[nltk_data] Downloading package stopwords to\n",
      "[nltk_data]     C:\\Users\\hp\\AppData\\Roaming\\nltk_data...\n",
      "[nltk_data]   Package stopwords is already up-to-date!\n"
     ]
    },
    {
     "data": {
      "text/plain": [
       "True"
      ]
     },
     "execution_count": 2,
     "metadata": {},
     "output_type": "execute_result"
    }
   ],
   "source": [
    "import re\n",
    "import nltk\n",
    "nltk.download('punkt')\n",
    "nltk.download('stopwords')"
   ]
  },
  {
   "cell_type": "markdown",
   "metadata": {},
   "source": [
    "## Data Preprocessing"
   ]
  },
  {
   "cell_type": "code",
   "execution_count": 3,
   "metadata": {},
   "outputs": [
    {
     "data": {
      "text/plain": [
       "'a litany of text summarization methods have been developed over the last several decades, so answering how text summarization works doesn’t have a single answer. this having been said, these methods can be classified according to their general approaches in addressing the challenge of text summarization. perhaps the most clear-cut and helpful distinction is that between extractive and abstractive text summarization methods. extractive methods seek to extract the most pertinent information from a text. extractive text summarization is the more traditional of the two methods, in part because of their relative simplicity compared to abstractive methods. abstractive methods instead seek to generate a novel body of text that accurately summarizes the original text. already we can see how this is a more difficult problem - there is a significant degree of freedom in not being limited to simply returning a subset of the original text. this difficulty comes with an upside, though. despite their relative complexity, abstractive methods produce much more flexible and arguably faithful summaries, especially in the age of large language models. '"
      ]
     },
     "execution_count": 3,
     "metadata": {},
     "output_type": "execute_result"
    }
   ],
   "source": [
    "article_text = article_text.lower()\n",
    "article_text"
   ]
  },
  {
   "cell_type": "code",
   "execution_count": 4,
   "metadata": {},
   "outputs": [
    {
     "data": {
      "text/plain": [
       "'a litany of text summarization methods have been developed over the last several decades so answering how text summarization works doesn t have a single answer this having been said these methods can be classified according to their general approaches in addressing the challenge of text summarization perhaps the most clear cut and helpful distinction is that between extractive and abstractive text summarization methods extractive methods seek to extract the most pertinent information from a text extractive text summarization is the more traditional of the two methods in part because of their relative simplicity compared to abstractive methods abstractive methods instead seek to generate a novel body of text that accurately summarizes the original text already we can see how this is a more difficult problem there is a significant degree of freedom in not being limited to simply returning a subset of the original text this difficulty comes with an upside though despite their relative complexity abstractive methods produce much more flexible and arguably faithful summaries especially in the age of large language models '"
      ]
     },
     "execution_count": 4,
     "metadata": {},
     "output_type": "execute_result"
    }
   ],
   "source": [
    "# remove spaces, punctuations and numbers\n",
    "clean_text = re.sub('[^a-zA-Z]', ' ', article_text)\n",
    "clean_text = re.sub('\\s+', ' ', clean_text)\n",
    "clean_text"
   ]
  },
  {
   "cell_type": "code",
   "execution_count": 5,
   "metadata": {},
   "outputs": [
    {
     "data": {
      "text/plain": [
       "['a litany of text summarization methods have been developed over the last several decades, so answering how text summarization works doesn’t have a single answer.',\n",
       " 'this having been said, these methods can be classified according to their general approaches in addressing the challenge of text summarization.',\n",
       " 'perhaps the most clear-cut and helpful distinction is that between extractive and abstractive text summarization methods.',\n",
       " 'extractive methods seek to extract the most pertinent information from a text.',\n",
       " 'extractive text summarization is the more traditional of the two methods, in part because of their relative simplicity compared to abstractive methods.',\n",
       " 'abstractive methods instead seek to generate a novel body of text that accurately summarizes the original text.',\n",
       " 'already we can see how this is a more difficult problem - there is a significant degree of freedom in not being limited to simply returning a subset of the original text.',\n",
       " 'this difficulty comes with an upside, though.',\n",
       " 'despite their relative complexity, abstractive methods produce much more flexible and arguably faithful summaries, especially in the age of large language models.']"
      ]
     },
     "execution_count": 5,
     "metadata": {},
     "output_type": "execute_result"
    }
   ],
   "source": [
    "# split into sentence list\n",
    "sentence_list = nltk.sent_tokenize(article_text)\n",
    "sentence_list"
   ]
  },
  {
   "cell_type": "code",
   "execution_count": 6,
   "metadata": {},
   "outputs": [],
   "source": [
    "## run this cell once to download stopwords\n",
    "# import nltk\n",
    "# nltk.download('stopwords')"
   ]
  },
  {
   "cell_type": "markdown",
   "metadata": {},
   "source": [
    "## Word Frequencies"
   ]
  },
  {
   "cell_type": "code",
   "execution_count": 7,
   "metadata": {},
   "outputs": [],
   "source": [
    "stopwords = nltk.corpus.stopwords.words('english')\n",
    "\n",
    "word_frequencies = {}\n",
    "for word in nltk.word_tokenize(clean_text):\n",
    "    if word not in stopwords:\n",
    "        if word not in word_frequencies:\n",
    "            word_frequencies[word] = 1\n",
    "        else:\n",
    "            word_frequencies[word] += 1"
   ]
  },
  {
   "cell_type": "code",
   "execution_count": 8,
   "metadata": {},
   "outputs": [],
   "source": [
    "maximum_frequency = max(word_frequencies.values())\n",
    "\n",
    "for word in word_frequencies:\n",
    "    word_frequencies[word] = word_frequencies[word] / maximum_frequency"
   ]
  },
  {
   "cell_type": "markdown",
   "metadata": {},
   "source": [
    "## Calculate Sentence Scores"
   ]
  },
  {
   "cell_type": "code",
   "execution_count": 9,
   "metadata": {},
   "outputs": [],
   "source": [
    "sentence_scores = {}\n",
    "\n",
    "for sentence in sentence_list:\n",
    "    for word in nltk.word_tokenize(sentence):\n",
    "        if word in word_frequencies and len(sentence.split(' ')) < 30:\n",
    "            if sentence not in sentence_scores:\n",
    "                sentence_scores[sentence] = word_frequencies[word]\n",
    "            else:\n",
    "                sentence_scores[sentence] += word_frequencies[word]"
   ]
  },
  {
   "cell_type": "code",
   "execution_count": 10,
   "metadata": {},
   "outputs": [
    {
     "data": {
      "text/plain": [
       "{'litany': 0.1111111111111111,\n",
       " 'text': 1.0,\n",
       " 'summarization': 0.5555555555555556,\n",
       " 'methods': 0.8888888888888888,\n",
       " 'developed': 0.1111111111111111,\n",
       " 'last': 0.1111111111111111,\n",
       " 'several': 0.1111111111111111,\n",
       " 'decades': 0.1111111111111111,\n",
       " 'answering': 0.1111111111111111,\n",
       " 'works': 0.1111111111111111,\n",
       " 'single': 0.1111111111111111,\n",
       " 'answer': 0.1111111111111111,\n",
       " 'said': 0.1111111111111111,\n",
       " 'classified': 0.1111111111111111,\n",
       " 'according': 0.1111111111111111,\n",
       " 'general': 0.1111111111111111,\n",
       " 'approaches': 0.1111111111111111,\n",
       " 'addressing': 0.1111111111111111,\n",
       " 'challenge': 0.1111111111111111,\n",
       " 'perhaps': 0.1111111111111111,\n",
       " 'clear': 0.1111111111111111,\n",
       " 'cut': 0.1111111111111111,\n",
       " 'helpful': 0.1111111111111111,\n",
       " 'distinction': 0.1111111111111111,\n",
       " 'extractive': 0.3333333333333333,\n",
       " 'abstractive': 0.4444444444444444,\n",
       " 'seek': 0.2222222222222222,\n",
       " 'extract': 0.1111111111111111,\n",
       " 'pertinent': 0.1111111111111111,\n",
       " 'information': 0.1111111111111111,\n",
       " 'traditional': 0.1111111111111111,\n",
       " 'two': 0.1111111111111111,\n",
       " 'part': 0.1111111111111111,\n",
       " 'relative': 0.2222222222222222,\n",
       " 'simplicity': 0.1111111111111111,\n",
       " 'compared': 0.1111111111111111,\n",
       " 'instead': 0.1111111111111111,\n",
       " 'generate': 0.1111111111111111,\n",
       " 'novel': 0.1111111111111111,\n",
       " 'body': 0.1111111111111111,\n",
       " 'accurately': 0.1111111111111111,\n",
       " 'summarizes': 0.1111111111111111,\n",
       " 'original': 0.2222222222222222,\n",
       " 'already': 0.1111111111111111,\n",
       " 'see': 0.1111111111111111,\n",
       " 'difficult': 0.1111111111111111,\n",
       " 'problem': 0.1111111111111111,\n",
       " 'significant': 0.1111111111111111,\n",
       " 'degree': 0.1111111111111111,\n",
       " 'freedom': 0.1111111111111111,\n",
       " 'limited': 0.1111111111111111,\n",
       " 'simply': 0.1111111111111111,\n",
       " 'returning': 0.1111111111111111,\n",
       " 'subset': 0.1111111111111111,\n",
       " 'difficulty': 0.1111111111111111,\n",
       " 'comes': 0.1111111111111111,\n",
       " 'upside': 0.1111111111111111,\n",
       " 'though': 0.1111111111111111,\n",
       " 'despite': 0.1111111111111111,\n",
       " 'complexity': 0.1111111111111111,\n",
       " 'produce': 0.1111111111111111,\n",
       " 'much': 0.1111111111111111,\n",
       " 'flexible': 0.1111111111111111,\n",
       " 'arguably': 0.1111111111111111,\n",
       " 'faithful': 0.1111111111111111,\n",
       " 'summaries': 0.1111111111111111,\n",
       " 'especially': 0.1111111111111111,\n",
       " 'age': 0.1111111111111111,\n",
       " 'large': 0.1111111111111111,\n",
       " 'language': 0.1111111111111111,\n",
       " 'models': 0.1111111111111111}"
      ]
     },
     "execution_count": 10,
     "metadata": {},
     "output_type": "execute_result"
    }
   ],
   "source": [
    "word_frequencies"
   ]
  },
  {
   "cell_type": "code",
   "execution_count": 11,
   "metadata": {},
   "outputs": [
    {
     "data": {
      "text/plain": [
       "{'a litany of text summarization methods have been developed over the last several decades, so answering how text summarization works doesn’t have a single answer.': 4.999999999999998,\n",
       " 'this having been said, these methods can be classified according to their general approaches in addressing the challenge of text summarization.': 3.2222222222222223,\n",
       " 'perhaps the most clear-cut and helpful distinction is that between extractive and abstractive text summarization methods.': 3.555555555555556,\n",
       " 'extractive methods seek to extract the most pertinent information from a text.': 2.7777777777777777,\n",
       " 'extractive text summarization is the more traditional of the two methods, in part because of their relative simplicity compared to abstractive methods.': 4.888888888888889,\n",
       " 'abstractive methods instead seek to generate a novel body of text that accurately summarizes the original text.': 4.444444444444445,\n",
       " 'this difficulty comes with an upside, though.': 0.4444444444444444,\n",
       " 'despite their relative complexity, abstractive methods produce much more flexible and arguably faithful summaries, especially in the age of large language models.': 3.0000000000000004}"
      ]
     },
     "execution_count": 11,
     "metadata": {},
     "output_type": "execute_result"
    }
   ],
   "source": [
    "sentence_scores"
   ]
  },
  {
   "cell_type": "markdown",
   "metadata": {},
   "source": [
    "## Text Summarization"
   ]
  },
  {
   "cell_type": "code",
   "execution_count": 12,
   "metadata": {},
   "outputs": [
    {
     "name": "stdout",
     "output_type": "stream",
     "text": [
      "a litany of text summarization methods have been developed over the last several decades, so answering how text summarization works doesn’t have a single answer. extractive text summarization is the more traditional of the two methods, in part because of their relative simplicity compared to abstractive methods. abstractive methods instead seek to generate a novel body of text that accurately summarizes the original text. perhaps the most clear-cut and helpful distinction is that between extractive and abstractive text summarization methods. this having been said, these methods can be classified according to their general approaches in addressing the challenge of text summarization.\n"
     ]
    }
   ],
   "source": [
    "# get top 5 sentences\n",
    "import heapq\n",
    "summary = heapq.nlargest(5, sentence_scores, key=sentence_scores.get)\n",
    "\n",
    "print(\" \".join(summary))"
   ]
  }
 ],
 "metadata": {
  "kernelspec": {
   "display_name": "Python 3",
   "language": "python",
   "name": "python3"
  },
  "language_info": {
   "codemirror_mode": {
    "name": "ipython",
    "version": 3
   },
   "file_extension": ".py",
   "mimetype": "text/x-python",
   "name": "python",
   "nbconvert_exporter": "python",
   "pygments_lexer": "ipython3",
   "version": "3.8.10"
  }
 },
 "nbformat": 4,
 "nbformat_minor": 4
}
